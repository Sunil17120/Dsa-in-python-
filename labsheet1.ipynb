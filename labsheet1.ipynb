{
  "nbformat": 4,
  "nbformat_minor": 0,
  "metadata": {
    "colab": {
      "provenance": [],
      "authorship_tag": "ABX9TyOkLrkEWyqNySNSuJARfl4w",
      "include_colab_link": true
    },
    "kernelspec": {
      "name": "python3",
      "display_name": "Python 3"
    },
    "language_info": {
      "name": "python"
    }
  },
  "cells": [
    {
      "cell_type": "markdown",
      "metadata": {
        "id": "view-in-github",
        "colab_type": "text"
      },
      "source": [
        "<a href=\"https://colab.research.google.com/github/Sunil17120/Dsa-in-python-/blob/main/labsheet1.ipynb\" target=\"_parent\"><img src=\"https://colab.research.google.com/assets/colab-badge.svg\" alt=\"Open In Colab\"/></a>"
      ]
    },
    {
      "cell_type": "markdown",
      "source": [],
      "metadata": {
        "id": "lbheSW1VaP-y"
      }
    },
    {
      "cell_type": "markdown",
      "source": [
        "NAME:SUNIL KUMAR PANDAB,\n",
        "ROLLNO:20221COM0034\n"
      ],
      "metadata": {
        "id": "PvmrAPZvasrA"
      }
    },
    {
      "cell_type": "markdown",
      "source": [
        "LABSHEET-1\n",
        ":INTRODUCTION TO LIST ,TUPLES,DICTIONARIES,CLASSES AND FUNCTIONS\n"
      ],
      "metadata": {
        "id": "Sjgy2U0ha7ZY"
      }
    },
    {
      "cell_type": "markdown",
      "source": [
        "PROBLEM STATEMENT1:\n",
        "YOU ARE CREATING A PROGRAM TO MANAGE SHOPPING LIST.WRITE A PYTHON SCRIPT TO\n",
        "\n",
        "\n",
        "1.  ADD ITEMS TO THE SHOPPING LIST\n",
        "2.   REMOVE AN ITEM\n",
        "3.PRINT THE TOTAL NUMBER OF ITEMS IN THE LIST\n",
        "\n",
        "\n",
        "\n"
      ],
      "metadata": {
        "id": "sfhMi73XbNH4"
      }
    },
    {
      "cell_type": "code",
      "source": [
        "shopping_list=[]\n",
        "#add item to the list\n",
        "shopping_list.append(\"apples\")\n",
        "shopping_list.append(\"bananas\")\n",
        "shopping_list.append(\"milk\")\n",
        "# remove an item\n",
        "shopping_list.remove(\"bananas\")\n",
        "#print the total number of items\n",
        "print(\"shopping list\",shopping_list)\n",
        "print(\"total number of item:\",len(shopping_list))"
      ],
      "metadata": {
        "colab": {
          "base_uri": "https://localhost:8080/"
        },
        "id": "VduTKLJIa35Q",
        "outputId": "5eaad052-f6ea-4f50-cdfe-8f7049982f28"
      },
      "execution_count": null,
      "outputs": [
        {
          "output_type": "stream",
          "name": "stdout",
          "text": [
            "shopping list ['apples', 'milk']\n",
            "total number of item: 2\n"
          ]
        }
      ]
    },
    {
      "cell_type": "markdown",
      "source": [
        "*PROBLEM STATEMENT -2*:\n",
        "YOU ARE TASKED WITH STORING EMPLOYEE INFORMATION FOR A COMPANY.EACH EMPLOYEE HAVE THE FOLLOWING DETAILS\n",
        "\n",
        "1.  EMPLOYEE ID(INTEGER)\n",
        "2. NAME (STRING)\n",
        "3.DEPARTMENT (STRING)\n",
        "\n",
        "\n",
        " THE DATA SHOULD BE REMAIN IMMUTABLE TO ENSURE IT IS NOT ACCIDENTALLY MODIFIED\n",
        "\n",
        " WRITE A PYTHON SCRIPT\n",
        "\n",
        " 1.CREATE A TUPLE FOR EACH EMPLOYEE\n",
        "\n",
        " 2.STORE MULTIPLE EMPLOYEE TUPPLES IN A LIST\n",
        "\n",
        " 3.DISPLAY THE DETAILS OF EMPLOYEE IN \"FINANCE\" SEPARTMENT\n",
        "\n",
        "\n",
        "\n"
      ],
      "metadata": {
        "id": "UP0XSSACfPTX"
      }
    },
    {
      "cell_type": "code",
      "source": [
        "\n",
        "\n",
        "# Create employee tuples\n",
        "employee1 = (101, \"Alice\", \"Finance\")\n",
        "employee2 = (102, \"Bob\", \"HR\")\n",
        "employee3 = (103, \"Charlie\", \"Finance\")\n",
        "employee4 = (104, \"David\", \"IT\")\n",
        "\n",
        "# Store employee tuples in a list\n",
        "emp = [employee1, employee2, employee3, employee4]\n",
        "\n",
        "# Display details of employees in the \"Finance\" department\n",
        "print(\"Employees in the Finance department:\")\n",
        "for employee in emp:\n",
        "  if employee[2] == \"Finance\":\n",
        "    print(\"ID:\", employee[0])\n",
        "    print(\"Name:\", employee[1])\n",
        "    print(\"Department:\", employee[2])\n",
        "    print()\n"
      ],
      "metadata": {
        "colab": {
          "base_uri": "https://localhost:8080/"
        },
        "id": "YoF0FwDngrav",
        "outputId": "1d277081-91cc-4d6d-9af0-0d92e642f1a2"
      },
      "execution_count": null,
      "outputs": [
        {
          "output_type": "stream",
          "name": "stdout",
          "text": [
            "Employees in the Finance department:\n",
            "ID: 101\n",
            "Name: Alice\n",
            "Department: Finance\n",
            "\n",
            "ID: 103\n",
            "Name: Charlie\n",
            "Department: Finance\n",
            "\n"
          ]
        }
      ]
    },
    {
      "cell_type": "markdown",
      "source": [
        "**PROBLEM STATEMENT -3:**CREATE A PROGRAM TO MANAGE STUDENT GRADES USING A DICTIONARY .PERFORM THE FOLLOWING\n",
        "\n",
        "1.ADD A STUDENT AND THEIR GRADE\n",
        "\n",
        "2.UPDATE THE GRADE OF A STUDENT\n",
        "\n",
        "3.PRINT ALL STUDENTS WITH THEIR GRADE"
      ],
      "metadata": {
        "id": "xiA5l9Opic9W"
      }
    },
    {
      "cell_type": "code",
      "source": [
        "student_grades={}\n",
        "while True:\n",
        "  print(\"\\nmenu:\")\n",
        "  print(\"1.add a student and their grade\")\n",
        "  print(\"2.update the grade of a student\")\n",
        "  print(\"3.print all the students ith their grade\")\n",
        "  print(\"4.exit\")\n",
        "  choice=input(\"enter your choice(1/2/3/4):\")\n",
        "  if choice==\"1\":\n",
        "    name=input(\"enter the student name:\")\n",
        "    grade=input(\"enter the student grade:\")\n",
        "    student_grades[name]=grade\n",
        "    print(\"student added successfully\")\n",
        "  elif choice==\"2\":\n",
        "      name=input(\"enter the student name:\")\n",
        "      if name in student_grades:\n",
        "        new_grade=input(\"enter the new grade:\")\n",
        "        student_grades[name]=new_grade\n",
        "        print(\"grade updated successfully\")\n",
        "  elif choice==\"3\":\n",
        "    print(\"student grades:\")\n",
        "    for name,grade in student_grades.items():\n",
        "      print(name,\":\",grade)\n",
        "  elif choice==\"4\":\n",
        "    print(\"exiting the program\")\n",
        "    break\n",
        "  else:\n",
        "    print(\"invalid choice try again\")\n",
        "\n"
      ],
      "metadata": {
        "colab": {
          "base_uri": "https://localhost:8080/"
        },
        "id": "H_83Bs0EkMC_",
        "outputId": "0b7488f2-3117-440f-b73f-4f1844ed0f3c"
      },
      "execution_count": null,
      "outputs": [
        {
          "output_type": "stream",
          "name": "stdout",
          "text": [
            "\n",
            "menu:\n",
            "1.add a student and their grade\n",
            "2.update the grade of a student\n",
            "3.print all the students ith their grade\n",
            "4.exit\n",
            "enter your choice(1/2/3/4):1\n",
            "enter the student name:sunil\n",
            "enter the student grade:a+\n",
            "student added successfully\n",
            "\n",
            "menu:\n",
            "1.add a student and their grade\n",
            "2.update the grade of a student\n",
            "3.print all the students ith their grade\n",
            "4.exit\n",
            "enter your choice(1/2/3/4):1\n",
            "enter the student name:aakash\n",
            "enter the student grade:a\n",
            "student added successfully\n",
            "\n",
            "menu:\n",
            "1.add a student and their grade\n",
            "2.update the grade of a student\n",
            "3.print all the students ith their grade\n",
            "4.exit\n",
            "enter your choice(1/2/3/4):2\n",
            "enter the student name:aakash\n",
            "enter the new grade:a-\n",
            "grade updated successfully\n",
            "\n",
            "menu:\n",
            "1.add a student and their grade\n",
            "2.update the grade of a student\n",
            "3.print all the students ith their grade\n",
            "4.exit\n",
            "enter your choice(1/2/3/4):3\n",
            "student grades:\n",
            "sunil : a+\n",
            "aakash : a-\n",
            "\n",
            "menu:\n",
            "1.add a student and their grade\n",
            "2.update the grade of a student\n",
            "3.print all the students ith their grade\n",
            "4.exit\n",
            "enter your choice(1/2/3/4):4\n",
            "exiting the program\n"
          ]
        }
      ]
    },
    {
      "cell_type": "markdown",
      "source": [
        "problem statement 4:\n",
        "\n",
        "create a bank account class to:\n",
        "\n",
        "\n",
        "1.DEPOSIT MONEY\n",
        "\n",
        "2.WITHDRAW MONEY(ENSURE THE BALANCE DOES NOT GO NEGATIVE)\n",
        "\n",
        "\n",
        "3.ORINT THE CURRENT BALANCE"
      ],
      "metadata": {
        "id": "cCFVXgsdo6b9"
      }
    },
    {
      "cell_type": "code",
      "source": [
        "class BankAccount:\n",
        "  def __init__(self,owner,balance=0):\n",
        "    self.owner=owner\n",
        "    self.balance=balance\n",
        "\n",
        "  def deposit(self,amount):\n",
        "    if amount>0:\n",
        "      self.balance+=amount\n",
        "      print(f\"deposit {amount}.balance:{self.balance}\")\n",
        "  def withdraw(self,amount):\n",
        "    if amount>0 and amount<=self.balance:\n",
        "      self.balance-=amount\n",
        "      print(f\"withdrew {amount}.balance:{self.balance}\")\n",
        "    elif amount<=0:\n",
        "      print(\"invalid amount\")\n",
        "    else:\n",
        "      print(\"insufficient funds\")\n",
        "  def print_balance(self):\n",
        "    print(f\"account owner:{self.owner}\")\n",
        "    print(f\"current balance:{self.balance}\")\n",
        "acc=BankAccount(\"john Doe\",1000)\n",
        "acc.deposit(500)\n",
        "acc.withdraw(300)\n",
        "acc.print_balance()"
      ],
      "metadata": {
        "colab": {
          "base_uri": "https://localhost:8080/"
        },
        "id": "sTzZ9nA6qVd1",
        "outputId": "b9c9a1f0-06a2-442b-fe7f-f9f10c6b0a1a"
      },
      "execution_count": null,
      "outputs": [
        {
          "output_type": "stream",
          "name": "stdout",
          "text": [
            "deposit 500.balance:1500\n",
            "withdrew 300.balance:1200\n",
            "account owner:john Doe\n",
            "current balance:1200\n"
          ]
        }
      ]
    },
    {
      "cell_type": "markdown",
      "source": [
        "problem statement 5:\n",
        "\n",
        "WRITE A FUNCTION THAT TAKES A LIST OF NUMBERS AND RETURNS A TUPLE CONTAINING THE MINIMUM ,MAXIMUM, AND AVERAGE OF THE NUMBERS"
      ],
      "metadata": {
        "id": "qcXJfYl0tgSs"
      }
    },
    {
      "cell_type": "code",
      "source": [
        "def  process_numbers(numbers):\n",
        "  if not numbers:\n",
        "    return None\n",
        "  minimum=min(numbers)\n",
        "  maximum=max(numbers)\n",
        "  average=sum(numbers)/len(numbers)\n",
        "  return minimum,maximum,average\n",
        "numbers=[10,5,8,12]\n",
        "result=process_numbers(numbers)\n",
        "print(f\"Minimum:{result[0]},maximum:{result[1]},average:{result[2]}\")"
      ],
      "metadata": {
        "colab": {
          "base_uri": "https://localhost:8080/"
        },
        "id": "aQi3bmRpuf_8",
        "outputId": "8b9a1b3c-5e23-4aa7-d387-8da351e19942"
      },
      "execution_count": null,
      "outputs": [
        {
          "output_type": "stream",
          "name": "stdout",
          "text": [
            "Minimum:5,maximum:12,average:8.75\n"
          ]
        }
      ]
    },
    {
      "cell_type": "markdown",
      "source": [
        "PROBLEM STATEMENT 6:\n",
        "\n",
        "\n",
        "CREATE AN INVENTORY MANAGEMENT SYSTEM USING A DICTIONARY AND CLASSES WHERE:\n",
        "\n",
        "1.EACH ITEM IN THE INVENTORY HAS A NAME AND QUANTITY\n",
        "\n",
        "2.YOU CAN ADD STOCK,REMOVE STOCK,AND CHECK THE TOTAL INVENTORY.\n",
        "\n"
      ],
      "metadata": {
        "id": "2b0xPfWFvNtM"
      }
    },
    {
      "cell_type": "code",
      "source": [
        "class Inventory:\n",
        "    def __init__(self):\n",
        "        self.items = {}\n",
        "\n",
        "    def add_item(self, item_name, quantity):\n",
        "        if item_name in self.items:\n",
        "            self.items[item_name] += quantity\n",
        "        else:\n",
        "            self.items[item_name] = quantity\n",
        "        print(f\"Added {quantity} {item_name}(s). Total: {self.items[item_name]}\")\n",
        "\n",
        "    def remove_item(self, item_name, quantity):\n",
        "        if item_name in self.items and self.items[item_name] >= quantity:\n",
        "            self.items[item_name] -= quantity  # Changed '=' to '-=' to decrease quantity\n",
        "            print(f\"Removed {quantity} {item_name}(s). Remaining: {self.items[item_name]}\")\n",
        "        else:\n",
        "            print(f\"Not enough {item_name} in inventory or item does not exist!\")\n",
        "\n",
        "    def display_inventory(self):\n",
        "        print(\"Current Inventory:\")\n",
        "        for item, qty in self.items.items():\n",
        "            print(f\"{item}: {qty}\")\n",
        "\n",
        "# Usage\n",
        "inventory = Inventory()\n",
        "inventory.add_item(\"Laptop\", 10)\n",
        "inventory.add_item(\"Mouse\", 25)\n",
        "inventory.remove_item(\"Laptop\", 3)\n",
        "inventory.display_inventory()"
      ],
      "metadata": {
        "colab": {
          "base_uri": "https://localhost:8080/"
        },
        "id": "U78ZTvYSR_Ur",
        "outputId": "12dc49b5-3d80-451d-b233-28ca9ad083e5"
      },
      "execution_count": 2,
      "outputs": [
        {
          "output_type": "stream",
          "name": "stdout",
          "text": [
            "Added 10 Laptop(s). Total: 10\n",
            "Added 25 Mouse(s). Total: 25\n",
            "Removed 3 Laptop(s). Remaining: 7\n",
            "Current Inventory:\n",
            "Laptop: 7\n",
            "Mouse: 25\n"
          ]
        }
      ]
    }
  ]
}