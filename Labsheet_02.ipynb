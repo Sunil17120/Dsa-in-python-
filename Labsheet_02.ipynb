{
  "nbformat": 4,
  "nbformat_minor": 0,
  "metadata": {
    "colab": {
      "provenance": []
    },
    "kernelspec": {
      "name": "python3",
      "display_name": "Python 3"
    },
    "language_info": {
      "name": "python"
    }
  },
  "cells": [
    {
      "cell_type": "markdown",
      "source": [
        "**Problem Statement 1: You are tasked with crea ng a to-do list applica on where tasks are stored sequenally. Implement a singly linked list to:  **\n",
        "\n",
        "1. Add tasks at the end of the list.\n",
        "\n",
        "2. Display all tasks.  \n",
        "\n",
        "3. Remove a specific task by its name."
      ],
      "metadata": {
        "id": "9pgFF1awAXmZ"
      }
    },
    {
      "cell_type": "code",
      "source": [
        "class TaskNode:\n",
        "    def __init__(self, task_name):\n",
        "        self.task_name = task_name\n",
        "        self.next = None\n",
        "\n",
        "class ToDoList:\n",
        "    def __init__(self):\n",
        "        self.head = self.tail = None\n",
        "\n",
        "    def add_task(self, task_name):\n",
        "        new_task = TaskNode(task_name)\n",
        "        if self.tail:\n",
        "            self.tail.next = new_task\n",
        "        else:\n",
        "            self.head = new_task\n",
        "        self.tail = new_task\n",
        "        print(f'Task \"{task_name}\" added.')\n",
        "\n",
        "    def display_tasks(self):\n",
        "        current = self.head\n",
        "        print(\"To-Do List:\" if current else \"No tasks in the list.\")\n",
        "        while current:\n",
        "            print(f'- {current.task_name}')\n",
        "            current = current.next\n",
        "\n",
        "    def remove_task(self, task_name):\n",
        "        current, prev = self.head, None\n",
        "        while current and current.task_name != task_name:\n",
        "            prev, current = current, current.next\n",
        "        if not current:\n",
        "            print(f'Task \"{task_name}\" not found.')\n",
        "            return\n",
        "        if prev:\n",
        "            prev.next = current.next\n",
        "        else:\n",
        "            self.head = current.next\n",
        "        if not self.head:\n",
        "            self.tail = None\n",
        "        print(f'Task \"{task_name}\" removed.')\n",
        "\n",
        "# Example Usage\n",
        "todo_list = ToDoList()\n",
        "for task in [\"Complete assignment\", \"Buy groceries\", \"Workout\"]:\n",
        "    todo_list.add_task(task)\n",
        "todo_list.display_tasks()\n",
        "todo_list.remove_task(\"Buy groceries\")\n",
        "todo_list.display_tasks()"
      ],
      "metadata": {
        "colab": {
          "base_uri": "https://localhost:8080/"
        },
        "id": "7vFB67yeBoqv",
        "outputId": "06fa5025-9cb5-4540-ce05-27f89910228e"
      },
      "execution_count": 1,
      "outputs": [
        {
          "output_type": "stream",
          "name": "stdout",
          "text": [
            "Task \"Complete assignment\" added.\n",
            "Task \"Buy groceries\" added.\n",
            "Task \"Workout\" added.\n",
            "To-Do List:\n",
            "- Complete assignment\n",
            "- Buy groceries\n",
            "- Workout\n",
            "Task \"Buy groceries\" removed.\n",
            "To-Do List:\n",
            "- Complete assignment\n",
            "- Workout\n"
          ]
        }
      ]
    },
    {
      "cell_type": "code",
      "source": [],
      "metadata": {
        "id": "JC1k1c1UBong"
      },
      "execution_count": null,
      "outputs": []
    },
    {
      "cell_type": "markdown",
      "source": [],
      "metadata": {
        "id": "VyQMLAcCAZXD"
      }
    }
  ]
}